{
  "nbformat": 4,
  "nbformat_minor": 0,
  "metadata": {
    "colab": {
      "name": "ch6_exercises_py19.ipynb",
      "provenance": [],
      "collapsed_sections": [],
      "include_colab_link": true
    },
    "kernelspec": {
      "name": "python3",
      "display_name": "Python 3"
    }
  },
  "cells": [
    {
      "cell_type": "markdown",
      "metadata": {
        "id": "view-in-github",
        "colab_type": "text"
      },
      "source": [
        "<a href=\"https://colab.research.google.com/github/chaeyeongSon/py19/blob/master/ch6_exercises_py19.ipynb\" target=\"_parent\"><img src=\"https://colab.research.google.com/assets/colab-badge.svg\" alt=\"Open In Colab\"/></a>"
      ]
    },
    {
      "cell_type": "markdown",
      "metadata": {
        "id": "Cb51ihk3w-DB",
        "colab_type": "text"
      },
      "source": [
        "## Q1. \n",
        "> 내가 프로그램을 만들 수 있을까?\n",
        "- 구구단을 출력해보자.\n"
      ]
    },
    {
      "cell_type": "code",
      "metadata": {
        "id": "GDaDvxfgxMfB",
        "colab_type": "code",
        "colab": {}
      },
      "source": [
        "# [Q1] Code - 1\n",
        "\n",
        "for x in range(2, 10):\n",
        "    for y in range(1, 10):\n",
        "        print(x, \"X\", y, \"=\", x*y)\n",
        "    print(\"----------\")"
      ],
      "execution_count": 0,
      "outputs": []
    },
    {
      "cell_type": "code",
      "metadata": {
        "id": "SxTkenpI7cJz",
        "colab_type": "code",
        "colab": {}
      },
      "source": [
        " # [Q1] Code - 2\n",
        " \n",
        " while True:\n",
        "    num1 = int(input(\"숫자를 입력하시오\"))\n",
        "    for i in range(1,10):\n",
        "        print (num1, \"X\", i, \"=\", num1*i)\n",
        "    break"
      ],
      "execution_count": 0,
      "outputs": []
    },
    {
      "cell_type": "code",
      "metadata": {
        "id": "GgEhhKta4IGS",
        "colab_type": "code",
        "colab": {}
      },
      "source": [
        "# [Q1] Code - 3\n",
        "\n",
        "def GuGu0(n):\n",
        "    result = []\n",
        "    result.append(n * 1)\n",
        "    result.append(n * 2)\n",
        "    result.append(n * 3)\n",
        "    result.append(n * 4)\n",
        "    result.append(n * 5)\n",
        "    result.append(n * 6)\n",
        "    result.append(n * 7)\n",
        "    result.append(n * 8)\n",
        "    result.append(n * 9)\n",
        "    return result"
      ],
      "execution_count": 0,
      "outputs": []
    },
    {
      "cell_type": "code",
      "metadata": {
        "id": "0Ctdd5ha4zah",
        "colab_type": "code",
        "colab": {}
      },
      "source": [
        "# [Q1] Code - 4\n",
        "\n",
        "def GuGu(n):\n",
        "    result = []\n",
        "    for x in range(1, 10):\n",
        "        result.append(n*x)\n",
        "    return result"
      ],
      "execution_count": 0,
      "outputs": []
    },
    {
      "cell_type": "code",
      "metadata": {
        "id": "uQFoi1OP5YSQ",
        "colab_type": "code",
        "colab": {}
      },
      "source": [
        "# [Q1] Code - 5\n",
        "\n",
        "def GuGu(n):\n",
        "    result = []\n",
        "    i = 1\n",
        "    while i < 10:\n",
        "        result.append(n * i)\n",
        "        i = i + 1\n",
        "    return result"
      ],
      "execution_count": 0,
      "outputs": []
    },
    {
      "cell_type": "markdown",
      "metadata": {
        "id": "iva3hGZz5KTI",
        "colab_type": "text"
      },
      "source": [
        "## Q2. \n",
        "> 3과 5의 배수 합하기\n",
        "- 10 미만의 자연수에서 3과 5의 배수를 구하면 3, 5, 6, 9이며 이들의 총합은 23이다.\n",
        "- 1000 미만의 자연수에서 3의 배수와 5의 배수의 총합을 구하라."
      ]
    },
    {
      "cell_type": "code",
      "metadata": {
        "id": "7adedLr68dTp",
        "colab_type": "code",
        "colab": {}
      },
      "source": [
        "# [Q2] Code - 1\n",
        "\n",
        "three = []\n",
        "for x in range(1, 1000):\n",
        "    if x % 3 == 0:\n",
        "        three.append(x)\n",
        "\n",
        "five = []\n",
        "for x in range(1, 1000):\n",
        "    if x % 5 == 0:\n",
        "        five.append(x)\n",
        "\n",
        "three_five = three+five\n",
        "three_five = set(three_five)\n",
        "three_five = list(three_five)\n",
        "\n",
        "x = 0\n",
        "sum = 0\n",
        "while x < len(three_five):\n",
        "    sum += three_five[x]\n",
        "    x = x+1\n",
        "\n",
        "print(sum)\n"
      ],
      "execution_count": 0,
      "outputs": []
    },
    {
      "cell_type": "code",
      "metadata": {
        "id": "jIKkbYM_TcKt",
        "colab_type": "code",
        "colab": {}
      },
      "source": [
        "# [Q2] Code - 2\n",
        "\n",
        "result = 0\n",
        "for n in range(1, 1000):\n",
        "    if n % 3 == 0 or n % 5 == 0:\n",
        "        result += n\n",
        "\n",
        "print(result)"
      ],
      "execution_count": 0,
      "outputs": []
    },
    {
      "cell_type": "markdown",
      "metadata": {
        "id": "z8fznwH8z_BH",
        "colab_type": "text"
      },
      "source": [
        "## Q3. \n",
        "> 게시판 페이징하기\n",
        "- 게시물의 총 건수와 한 페이지에 보여 줄 게시물 수를 입력으로 주었을 때 총 페이지 수를 출력하는 프로그램을 만들어보자.\n",
        "\n"
      ]
    },
    {
      "cell_type": "code",
      "metadata": {
        "id": "L8Etuqlg0u0h",
        "colab_type": "code",
        "colab": {}
      },
      "source": [
        "# [Q3] Code - 1\n",
        "\n",
        "import math\n",
        "\n",
        "m = int(input('총 건수: '))\n",
        "n = int(input('한 페이지에 보여 줄 게시물수: '))\n",
        "\n",
        "getTotalPage = math.ceil(m/n)\n",
        "\n",
        "print(\"총 페이지수: %d\" % getTotalPage)"
      ],
      "execution_count": 0,
      "outputs": []
    },
    {
      "cell_type": "code",
      "metadata": {
        "id": "ZFlkKmGN4TVw",
        "colab_type": "code",
        "colab": {}
      },
      "source": [
        "# [Q3] Code - 2\n",
        "\n",
        "def getTotalPage(m, n):\n",
        "    if m % n == 0:\n",
        "        return m // n\n",
        "    else:\n",
        "        return m // n + 1\n",
        "\n",
        "\n",
        "print(getTotalPage(5, 10))\n",
        "print(getTotalPage(15, 10))\n",
        "print(getTotalPage(25, 10))\n",
        "print(getTotalPage(30, 10))"
      ],
      "execution_count": 0,
      "outputs": []
    },
    {
      "cell_type": "markdown",
      "metadata": {
        "id": "DfT8b7O9BL1Y",
        "colab_type": "text"
      },
      "source": [
        "## Q4.\n",
        "> 간단한 메모장 만들기\n",
        "- 원하는 메모를 파일에 저장하고 추가 및 조회가 가능한 간단한 메모장을 만들어 보자."
      ]
    },
    {
      "cell_type": "code",
      "metadata": {
        "id": "-4AfTouJWCsa",
        "colab_type": "code",
        "outputId": "380a1e69-6941-4ca8-942a-f301d068ccb6",
        "colab": {
          "base_uri": "https://localhost:8080/",
          "height": 35
        }
      },
      "source": [
        "ls"
      ],
      "execution_count": 0,
      "outputs": [
        {
          "output_type": "stream",
          "text": [
            "\u001b[0m\u001b[01;34mdoit\u001b[0m/  \u001b[01;34msample_data\u001b[0m/  sub_dir_search.py\n"
          ],
          "name": "stdout"
        }
      ]
    },
    {
      "cell_type": "code",
      "metadata": {
        "id": "yr49G-fIWHJY",
        "colab_type": "code",
        "colab": {}
      },
      "source": [
        "mkdir 'doit'"
      ],
      "execution_count": 0,
      "outputs": []
    },
    {
      "cell_type": "code",
      "metadata": {
        "id": "VF9wnnTsWdlQ",
        "colab_type": "code",
        "colab": {}
      },
      "source": [
        "mv memo.py ./doit/"
      ],
      "execution_count": 0,
      "outputs": []
    },
    {
      "cell_type": "code",
      "metadata": {
        "id": "ri7SSUR7Wl1o",
        "colab_type": "code",
        "outputId": "ad5ef20b-8ca0-4f0e-84a1-870ff3a5cf8c",
        "colab": {
          "base_uri": "https://localhost:8080/",
          "height": 35
        }
      },
      "source": [
        "cd doit"
      ],
      "execution_count": 0,
      "outputs": [
        {
          "output_type": "stream",
          "text": [
            "/content/doit\n"
          ],
          "name": "stdout"
        }
      ]
    },
    {
      "cell_type": "code",
      "metadata": {
        "id": "pZFMrrpfWwAw",
        "colab_type": "code",
        "outputId": "07476f61-ce89-402d-ba37-0ca0514937e5",
        "colab": {
          "base_uri": "https://localhost:8080/",
          "height": 35
        }
      },
      "source": [
        "pwd"
      ],
      "execution_count": 0,
      "outputs": [
        {
          "output_type": "execute_result",
          "data": {
            "text/plain": [
              "'/content/doit'"
            ]
          },
          "metadata": {
            "tags": []
          },
          "execution_count": 39
        }
      ]
    },
    {
      "cell_type": "code",
      "metadata": {
        "id": "EadDCfxgWzDx",
        "colab_type": "code",
        "colab": {}
      },
      "source": [
        "!python memo.py -a \"Py coding is fun!!\""
      ],
      "execution_count": 0,
      "outputs": []
    },
    {
      "cell_type": "code",
      "metadata": {
        "id": "PfQWLdWkW_EF",
        "colab_type": "code",
        "outputId": "9e190775-6f42-46e3-9718-9e815cfb55aa",
        "colab": {
          "base_uri": "https://localhost:8080/",
          "height": 53
        }
      },
      "source": [
        "!python memo.py -v"
      ],
      "execution_count": 0,
      "outputs": [
        {
          "output_type": "stream",
          "text": [
            "Py coding is fun!!\n",
            "\n"
          ],
          "name": "stdout"
        }
      ]
    },
    {
      "cell_type": "markdown",
      "metadata": {
        "id": "xGR34aYcXbBC",
        "colab_type": "text"
      },
      "source": [
        "##Q5.\n",
        "> 탭을 4개의 공백으로 바꾸기\n",
        "- 문서 파일을 읽어서 그 문서 파일 안에 있는 탭(tab)을 공백(space) 4개로 바꾸어 주는 스크립트를 작성해 보자."
      ]
    },
    {
      "cell_type": "code",
      "metadata": {
        "id": "vGm0ewttYaHr",
        "colab_type": "code",
        "colab": {}
      },
      "source": [
        "cd .."
      ],
      "execution_count": 0,
      "outputs": []
    },
    {
      "cell_type": "code",
      "metadata": {
        "id": "qOMjQpMhXg0q",
        "colab_type": "code",
        "colab": {}
      },
      "source": [
        "mv tabto4.py ./doit/"
      ],
      "execution_count": 0,
      "outputs": []
    },
    {
      "cell_type": "code",
      "metadata": {
        "id": "qCOXU4anYWaQ",
        "colab_type": "code",
        "colab": {}
      },
      "source": [
        "mv a.txt ./doit/"
      ],
      "execution_count": 0,
      "outputs": []
    },
    {
      "cell_type": "code",
      "metadata": {
        "id": "f-FUKTZJYqGg",
        "colab_type": "code",
        "colab": {}
      },
      "source": [
        "cd doit"
      ],
      "execution_count": 0,
      "outputs": []
    },
    {
      "cell_type": "code",
      "metadata": {
        "id": "NJ7j01VKYuHo",
        "colab_type": "code",
        "colab": {}
      },
      "source": [
        "!python tabto4.py a.txt b.txt"
      ],
      "execution_count": 0,
      "outputs": []
    },
    {
      "cell_type": "markdown",
      "metadata": {
        "id": "MUrr_eSIY5kY",
        "colab_type": "text"
      },
      "source": [
        "##Q6.\n",
        "> 하위 디렉터리 검색하기\n",
        "- 특정 디렉터리부터 시작해서 그 하위 모든 파일 중 파이썬 파일(*.py)만 출력해보자."
      ]
    },
    {
      "cell_type": "code",
      "metadata": {
        "id": "8LK-JIBkZssv",
        "colab_type": "code",
        "colab": {}
      },
      "source": [
        "'''\n",
        "import os\n",
        "\n",
        "def search(dirname):\n",
        "    try:\n",
        "        filenames = os.listdir(dirname)\n",
        "        for filename in filenames:\n",
        "            full_filename = os.path.join(dirname, filename)\n",
        "            if os.path.isdir(full_filename):\n",
        "                search(full_filename)\n",
        "            else:\n",
        "                ext = os.path.splitext(full_filename)[-1]\n",
        "                if ext == '.py': \n",
        "                    print(full_filename)\n",
        "    except PermissionError:\n",
        "        pass\n",
        "\n",
        "search(\"./\")\n",
        "'''"
      ],
      "execution_count": 0,
      "outputs": []
    },
    {
      "cell_type": "code",
      "metadata": {
        "id": "FdBpOybUZ06o",
        "colab_type": "code",
        "colab": {}
      },
      "source": [
        "cd .."
      ],
      "execution_count": 0,
      "outputs": []
    },
    {
      "cell_type": "code",
      "metadata": {
        "id": "hHfYK-KNaM85",
        "colab_type": "code",
        "outputId": "457e93e6-0851-4dde-c97c-5d2b0ed3ad31",
        "colab": {
          "base_uri": "https://localhost:8080/",
          "height": 71
        }
      },
      "source": [
        "!python sub_dir_search.py"
      ],
      "execution_count": 0,
      "outputs": [
        {
          "output_type": "stream",
          "text": [
            "./sub_dir_search.py\n",
            "./doit/memo.py\n",
            "./doit/tabto4.py\n"
          ],
          "name": "stdout"
        }
      ]
    }
  ]
}